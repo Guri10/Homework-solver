{
  "nbformat": 4,
  "nbformat_minor": 0,
  "metadata": {
    "colab": {
      "name": "Untitled3.ipynb",
      "provenance": [],
      "authorship_tag": "ABX9TyPtxPp9jLgvY8Hq2GcOdzsp",
      "include_colab_link": true
    },
    "kernelspec": {
      "name": "python3",
      "display_name": "Python 3"
    },
    "language_info": {
      "name": "python"
    }
  },
  "cells": [
    {
      "cell_type": "markdown",
      "metadata": {
        "id": "view-in-github",
        "colab_type": "text"
      },
      "source": [
        "<a href=\"https://colab.research.google.com/github/Guri10/Homework-solver/blob/master/Untitled3.ipynb\" target=\"_parent\"><img src=\"https://colab.research.google.com/assets/colab-badge.svg\" alt=\"Open In Colab\"/></a>"
      ]
    },
    {
      "cell_type": "code",
      "metadata": {
        "id": "O5savPtKvZ13"
      },
      "source": [
        "import nltk"
      ],
      "execution_count": 2,
      "outputs": []
    },
    {
      "cell_type": "code",
      "metadata": {
        "colab": {
          "base_uri": "https://localhost:8080/"
        },
        "id": "uhS5LcpUveaV",
        "outputId": "40cb4057-140a-4106-8e8b-c915ff75ecb4"
      },
      "source": [
        "nltk.download(\"popular\")"
      ],
      "execution_count": 3,
      "outputs": [
        {
          "output_type": "stream",
          "text": [
            "[nltk_data] Downloading collection 'popular'\n",
            "[nltk_data]    | \n",
            "[nltk_data]    | Downloading package cmudict to /root/nltk_data...\n",
            "[nltk_data]    |   Unzipping corpora/cmudict.zip.\n",
            "[nltk_data]    | Downloading package gazetteers to /root/nltk_data...\n",
            "[nltk_data]    |   Unzipping corpora/gazetteers.zip.\n",
            "[nltk_data]    | Downloading package genesis to /root/nltk_data...\n",
            "[nltk_data]    |   Unzipping corpora/genesis.zip.\n",
            "[nltk_data]    | Downloading package gutenberg to /root/nltk_data...\n",
            "[nltk_data]    |   Unzipping corpora/gutenberg.zip.\n",
            "[nltk_data]    | Downloading package inaugural to /root/nltk_data...\n",
            "[nltk_data]    |   Unzipping corpora/inaugural.zip.\n",
            "[nltk_data]    | Downloading package movie_reviews to\n",
            "[nltk_data]    |     /root/nltk_data...\n",
            "[nltk_data]    |   Unzipping corpora/movie_reviews.zip.\n",
            "[nltk_data]    | Downloading package names to /root/nltk_data...\n",
            "[nltk_data]    |   Unzipping corpora/names.zip.\n",
            "[nltk_data]    | Downloading package shakespeare to /root/nltk_data...\n",
            "[nltk_data]    |   Unzipping corpora/shakespeare.zip.\n",
            "[nltk_data]    | Downloading package stopwords to /root/nltk_data...\n",
            "[nltk_data]    |   Unzipping corpora/stopwords.zip.\n",
            "[nltk_data]    | Downloading package treebank to /root/nltk_data...\n",
            "[nltk_data]    |   Unzipping corpora/treebank.zip.\n",
            "[nltk_data]    | Downloading package twitter_samples to\n",
            "[nltk_data]    |     /root/nltk_data...\n",
            "[nltk_data]    |   Unzipping corpora/twitter_samples.zip.\n",
            "[nltk_data]    | Downloading package omw to /root/nltk_data...\n",
            "[nltk_data]    |   Unzipping corpora/omw.zip.\n",
            "[nltk_data]    | Downloading package wordnet to /root/nltk_data...\n",
            "[nltk_data]    |   Unzipping corpora/wordnet.zip.\n",
            "[nltk_data]    | Downloading package wordnet_ic to /root/nltk_data...\n",
            "[nltk_data]    |   Unzipping corpora/wordnet_ic.zip.\n",
            "[nltk_data]    | Downloading package words to /root/nltk_data...\n",
            "[nltk_data]    |   Unzipping corpora/words.zip.\n",
            "[nltk_data]    | Downloading package maxent_ne_chunker to\n",
            "[nltk_data]    |     /root/nltk_data...\n",
            "[nltk_data]    |   Unzipping chunkers/maxent_ne_chunker.zip.\n",
            "[nltk_data]    | Downloading package punkt to /root/nltk_data...\n",
            "[nltk_data]    |   Unzipping tokenizers/punkt.zip.\n",
            "[nltk_data]    | Downloading package snowball_data to\n",
            "[nltk_data]    |     /root/nltk_data...\n",
            "[nltk_data]    | Downloading package averaged_perceptron_tagger to\n",
            "[nltk_data]    |     /root/nltk_data...\n",
            "[nltk_data]    |   Unzipping taggers/averaged_perceptron_tagger.zip.\n",
            "[nltk_data]    | \n",
            "[nltk_data]  Done downloading collection popular\n"
          ],
          "name": "stdout"
        },
        {
          "output_type": "execute_result",
          "data": {
            "text/plain": [
              "True"
            ]
          },
          "metadata": {
            "tags": []
          },
          "execution_count": 3
        }
      ]
    },
    {
      "cell_type": "code",
      "metadata": {
        "id": "yrnxp6nzvrJ7"
      },
      "source": [
        "from nltk.stem import PorterStemmer\n",
        "from nltk.corpus import stopwords"
      ],
      "execution_count": 4,
      "outputs": []
    },
    {
      "cell_type": "code",
      "metadata": {
        "id": "XBwxOxyuwKa_"
      },
      "source": [
        "paragraph=\"\"\"Here’s how I recall the wonderful story that sets the theme for my remarks today: At a party given by a billionaire on Shelter Island, the \n",
        "            late Kurt Vonnegut informs his pal, the author Joseph Heller, that their host, a hedge fund manager, had made more money in a single day than Heller had \n",
        "            earned from his wildly popular novel Catch 22 over its whole history.\n",
        "            Heller responds, “Yes, but I have something he will never have . . . Enough.”\n",
        "\n",
        "            Enough. I was stunned by its simple eloquence, to say nothing of its relevance to some of the vital issues arising in American society today. Many \n",
        "            of them revolve around money—yes, money—increasingly, in our “bottom line” society, the Great God of prestige, the Great Measure of the Man (and Woman). \n",
        "            So this morning I have the temerity to ask you soon-to-be-minted MBA graduates, most of whom will enter the world of commerce, to consider with me the role \n",
        "            of “enough” in business and entrepreneurship in our society, \n",
        "            “enough” in the dominant role of the financial system in our economy, and “enough” in the values you will bring to the fields you choose for your careers.\n",
        "\n",
        "            Kurt Vonnegut loved to speak to college students. He believed, if I may paraphrase here, that “we should catch young people before they become CEOs, \n",
        "            investment bankers, consultants, and money managers (and especially hedge fund managers), and do our best to poison their minds with humanity.” \n",
        "            And in my remarks this morning, I’ll try to poison your minds with a little bit of that humanity.\n",
        "\n",
        "            Over the past two centuries, our nation has moved from being an agricultural economy, to a manufacturing economy, to a service economy, \n",
        "            and now to a predominantly financial economy. But our financial economy, by definition, subtracts from the value created by our productive businesses. \n",
        "            Think about it: while the owners of business enjoy the dividend yields and earnings growth that our capitalistic system creates, \n",
        "            those who play in the financial markets capture those investment gains only after the costs of financial intermediation are deducted. \n",
        "            Thus, while investing in American business is a winner’s game, beating the stock market before those costs is a zero-sum game. \n",
        "            But after intermediation costs are deducted, beating the market—for all of us as a group—becomes a loser’s game.\"\"\""
      ],
      "execution_count": 5,
      "outputs": []
    },
    {
      "cell_type": "code",
      "metadata": {
        "id": "WaTUhw99wWgM"
      },
      "source": [
        "sentences=nltk.sent_tokenize(paragraph)"
      ],
      "execution_count": 6,
      "outputs": []
    },
    {
      "cell_type": "code",
      "metadata": {
        "colab": {
          "base_uri": "https://localhost:8080/"
        },
        "id": "groTsfgYwgzl",
        "outputId": "2995e93f-bd1c-4e82-f84f-9f025d761e99"
      },
      "source": [
        "print(sentences)\n",
        "stemmer=PorterStemmer()"
      ],
      "execution_count": 9,
      "outputs": [
        {
          "output_type": "stream",
          "text": [
            "['Here’s how I recall the wonderful story that sets the theme for my remarks today: At a party given by a billionaire on Shelter Island, the \\n            late Kurt Vonnegut informs his pal, the author Joseph Heller, that their host, a hedge fund manager, had made more money in a single day than Heller had \\n            earned from his wildly popular novel Catch 22 over its whole history.', 'Heller responds, “Yes, but I have something he will never have .', '.', '.', 'Enough.”\\n\\n            Enough.', 'I was stunned by its simple eloquence, to say nothing of its relevance to some of the vital issues arising in American society today.', 'Many \\n            of them revolve around money—yes, money—increasingly, in our “bottom line” society, the Great God of prestige, the Great Measure of the Man (and Woman).', 'So this morning I have the temerity to ask you soon-to-be-minted MBA graduates, most of whom will enter the world of commerce, to consider with me the role \\n            of “enough” in business and entrepreneurship in our society, \\n            “enough” in the dominant role of the financial system in our economy, and “enough” in the values you will bring to the fields you choose for your careers.', 'Kurt Vonnegut loved to speak to college students.', 'He believed, if I may paraphrase here, that “we should catch young people before they become CEOs, \\n            investment bankers, consultants, and money managers (and especially hedge fund managers), and do our best to poison their minds with humanity.” \\n            And in my remarks this morning, I’ll try to poison your minds with a little bit of that humanity.', 'Over the past two centuries, our nation has moved from being an agricultural economy, to a manufacturing economy, to a service economy, \\n            and now to a predominantly financial economy.', 'But our financial economy, by definition, subtracts from the value created by our productive businesses.', 'Think about it: while the owners of business enjoy the dividend yields and earnings growth that our capitalistic system creates, \\n            those who play in the financial markets capture those investment gains only after the costs of financial intermediation are deducted.', 'Thus, while investing in American business is a winner’s game, beating the stock market before those costs is a zero-sum game.', 'But after intermediation costs are deducted, beating the market—for all of us as a group—becomes a loser’s game.']\n"
          ],
          "name": "stdout"
        }
      ]
    },
    {
      "cell_type": "code",
      "metadata": {
        "id": "KZm7oVEuwjx5"
      },
      "source": [
        "for i in range(len(sentences)):\n",
        "  words=nltk.word_tokenize(sentences[i])\n",
        "  words=[stemmer.stem(word) for word in words if word not in set(stopwords.words(\"english\"))]\n",
        "  sentences[i]=\" \".join(words)"
      ],
      "execution_count": 16,
      "outputs": []
    },
    {
      "cell_type": "code",
      "metadata": {
        "colab": {
          "base_uri": "https://localhost:8080/"
        },
        "id": "-JXOsvEixUF5",
        "outputId": "4102ab69-6e54-4516-a978-4f4a21b56ddb"
      },
      "source": [
        "print(sentences)"
      ],
      "execution_count": 23,
      "outputs": [
        {
          "output_type": "stream",
          "text": [
            "['’ I recal wonder stori set theme remark today : At parti given billionair shelter island , late kurt vonnegut inform pal , author joseph heller , host , hedg fund manag , made money singl day heller earn wildli popular novel catch 22 whole histori .', 'heller respond , “ ye , I someth never .', '.', '.', 'enough . ” enough .', 'I stun simpl eloqu , say noth relev vital issu aris american societi today .', 'mani revolv around money—y , money—increasingli , “ bottom line ” societi , great god prestig , great measur man ( woman ) .', 'So morn I temer ask soon-to-be-mint mba graduat , enter world commerc , consid role “ enough ” busi entrepreneurship societi , “ enough ” domin role financi system economi , “ enough ” valu bring field choos career .', 'kurt vonnegut love speak colleg student .', 'He believ , I may paraphras , “ catch young peopl becom ceo , invest banker , consult , money manag ( especi hedg fund manag ) , best poison mind humanity . ” remark morn , I ’ tri poison mind littl bit human .', 'past two centuri , nation move agricultur economi , manufactur economi , servic economi , predominantli financi economi .', 'financi economi , definit , subtract valu creat product busi .', 'think : owner busi enjoy dividend yield earn growth capitalist system creat , play financi market captur invest gain cost financi intermedi deduct .', 'thu , invest american busi winner ’ game , beat stock market cost zero-sum game .', 'intermedi cost deduct , beat market—for u group—becom loser ’ game .']\n"
          ],
          "name": "stdout"
        }
      ]
    },
    {
      "cell_type": "code",
      "metadata": {
        "id": "6_R8GnNgzP9-"
      },
      "source": [
        "paragraph=\"\"\"Here’s how I recall the wonderful story that sets the theme for my remarks today: At a party given by a billionaire on Shelter Island, the \n",
        "            late Kurt Vonnegut informs his pal, the author Joseph Heller, that their host, a hedge fund manager, had made more money in a single day than Heller had \n",
        "            earned from his wildly popular novel Catch 22 over its whole history.\n",
        "            Heller responds, “Yes, but I have something he will never have . . . Enough.”\n",
        "\n",
        "            Enough. I was stunned by its simple eloquence, to say nothing of its relevance to some of the vital issues arising in American society today. Many \n",
        "            of them revolve around money—yes, money—increasingly, in our “bottom line” society, the Great God of prestige, the Great Measure of the Man (and Woman). \n",
        "            So this morning I have the temerity to ask you soon-to-be-minted MBA graduates, most of whom will enter the world of commerce, to consider with me the role \n",
        "            of “enough” in business and entrepreneurship in our society, \n",
        "            “enough” in the dominant role of the financial system in our economy, and “enough” in the values you will bring to the fields you choose for your careers.\n",
        "\n",
        "            Kurt Vonnegut loved to speak to college students. He believed, if I may paraphrase here, that “we should catch young people before they become CEOs, \n",
        "            investment bankers, consultants, and money managers (and especially hedge fund managers), and do our best to poison their minds with humanity.” \n",
        "            And in my remarks this morning, I’ll try to poison your minds with a little bit of that humanity.\n",
        "\n",
        "            Over the past two centuries, our nation has moved from being an agricultural economy, to a manufacturing economy, to a service economy, \n",
        "            and now to a predominantly financial economy. But our financial economy, by definition, subtracts from the value created by our productive businesses. \n",
        "            Think about it: while the owners of business enjoy the dividend yields and earnings growth that our capitalistic system creates, \n",
        "            those who play in the financial markets capture those investment gains only after the costs of financial intermediation are deducted. \n",
        "            Thus, while investing in American business is a winner’s game, beating the stock market before those costs is a zero-sum game. \n",
        "            But after intermediation costs are deducted, beating the market—for all of us as a group—becomes a loser’s game.\"\"\""
      ],
      "execution_count": 24,
      "outputs": []
    },
    {
      "cell_type": "code",
      "metadata": {
        "id": "-8zQJkYxzan8"
      },
      "source": [
        "sentences=nltk.sent_tokenize(paragraph)"
      ],
      "execution_count": 27,
      "outputs": []
    },
    {
      "cell_type": "code",
      "metadata": {
        "id": "xIWLFUPUxr59"
      },
      "source": [
        "from nltk.stem import WordNetLemmatizer\n",
        "lemmatizer=WordNetLemmatizer()"
      ],
      "execution_count": 28,
      "outputs": []
    },
    {
      "cell_type": "code",
      "metadata": {
        "colab": {
          "base_uri": "https://localhost:8080/"
        },
        "id": "Hw572zRtyIM2",
        "outputId": "d4fd9d99-a3dd-4228-d63f-693330d0752f"
      },
      "source": [
        "for i in range(len(sentences)):\n",
        "  words=nltk.word_tokenize(sentences[i])\n",
        "  words=[lemmatizer.lemmatize(word) for word in words if word not in set(stopwords.words(\"english\"))]\n",
        "  sentences[i]=\" \".join(words)\n",
        "print(sentences)"
      ],
      "execution_count": 29,
      "outputs": [
        {
          "output_type": "stream",
          "text": [
            "['Here ’ I recall wonderful story set theme remark today : At party given billionaire Shelter Island , late Kurt Vonnegut informs pal , author Joseph Heller , host , hedge fund manager , made money single day Heller earned wildly popular novel Catch 22 whole history .', 'Heller responds , “ Yes , I something never .', '.', '.', 'Enough. ” Enough .', 'I stunned simple eloquence , say nothing relevance vital issue arising American society today .', 'Many revolve around money—yes , money—increasingly , “ bottom line ” society , Great God prestige , Great Measure Man ( Woman ) .', 'So morning I temerity ask soon-to-be-minted MBA graduate , enter world commerce , consider role “ enough ” business entrepreneurship society , “ enough ” dominant role financial system economy , “ enough ” value bring field choose career .', 'Kurt Vonnegut loved speak college student .', 'He believed , I may paraphrase , “ catch young people become CEOs , investment banker , consultant , money manager ( especially hedge fund manager ) , best poison mind humanity. ” And remark morning , I ’ try poison mind little bit humanity .', 'Over past two century , nation moved agricultural economy , manufacturing economy , service economy , predominantly financial economy .', 'But financial economy , definition , subtracts value created productive business .', 'Think : owner business enjoy dividend yield earnings growth capitalistic system creates , play financial market capture investment gain cost financial intermediation deducted .', 'Thus , investing American business winner ’ game , beating stock market cost zero-sum game .', 'But intermediation cost deducted , beating market—for u group—becomes loser ’ game .']\n"
          ],
          "name": "stdout"
        }
      ]
    }
  ]
}