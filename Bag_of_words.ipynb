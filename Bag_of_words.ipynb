{
  "nbformat": 4,
  "nbformat_minor": 0,
  "metadata": {
    "colab": {
      "name": "Untitled4.ipynb",
      "provenance": [],
      "collapsed_sections": [],
      "authorship_tag": "ABX9TyMl7AjHR2lcKH51VbaDzlSC",
      "include_colab_link": true
    },
    "kernelspec": {
      "name": "python3",
      "display_name": "Python 3"
    },
    "language_info": {
      "name": "python"
    }
  },
  "cells": [
    {
      "cell_type": "markdown",
      "metadata": {
        "id": "view-in-github",
        "colab_type": "text"
      },
      "source": [
        "<a href=\"https://colab.research.google.com/github/Guri10/Homework-solver/blob/master/Bag_of_words.ipynb\" target=\"_parent\"><img src=\"https://colab.research.google.com/assets/colab-badge.svg\" alt=\"Open In Colab\"/></a>"
      ]
    },
    {
      "cell_type": "code",
      "metadata": {
        "id": "B16sEcIOzRz3"
      },
      "source": [
        "import nltk"
      ],
      "execution_count": 1,
      "outputs": []
    },
    {
      "cell_type": "code",
      "metadata": {
        "colab": {
          "base_uri": "https://localhost:8080/"
        },
        "id": "0PaJsQqbzYn7",
        "outputId": "f9d6f786-32e7-486f-f8a4-ba303bbc31f8"
      },
      "source": [
        "nltk.download(\"popular\")"
      ],
      "execution_count": 2,
      "outputs": [
        {
          "output_type": "stream",
          "text": [
            "[nltk_data] Downloading collection 'popular'\n",
            "[nltk_data]    | \n",
            "[nltk_data]    | Downloading package cmudict to /root/nltk_data...\n",
            "[nltk_data]    |   Unzipping corpora/cmudict.zip.\n",
            "[nltk_data]    | Downloading package gazetteers to /root/nltk_data...\n",
            "[nltk_data]    |   Unzipping corpora/gazetteers.zip.\n",
            "[nltk_data]    | Downloading package genesis to /root/nltk_data...\n",
            "[nltk_data]    |   Unzipping corpora/genesis.zip.\n",
            "[nltk_data]    | Downloading package gutenberg to /root/nltk_data...\n",
            "[nltk_data]    |   Unzipping corpora/gutenberg.zip.\n",
            "[nltk_data]    | Downloading package inaugural to /root/nltk_data...\n",
            "[nltk_data]    |   Unzipping corpora/inaugural.zip.\n",
            "[nltk_data]    | Downloading package movie_reviews to\n",
            "[nltk_data]    |     /root/nltk_data...\n",
            "[nltk_data]    |   Unzipping corpora/movie_reviews.zip.\n",
            "[nltk_data]    | Downloading package names to /root/nltk_data...\n",
            "[nltk_data]    |   Unzipping corpora/names.zip.\n",
            "[nltk_data]    | Downloading package shakespeare to /root/nltk_data...\n",
            "[nltk_data]    |   Unzipping corpora/shakespeare.zip.\n",
            "[nltk_data]    | Downloading package stopwords to /root/nltk_data...\n",
            "[nltk_data]    |   Unzipping corpora/stopwords.zip.\n",
            "[nltk_data]    | Downloading package treebank to /root/nltk_data...\n",
            "[nltk_data]    |   Unzipping corpora/treebank.zip.\n",
            "[nltk_data]    | Downloading package twitter_samples to\n",
            "[nltk_data]    |     /root/nltk_data...\n",
            "[nltk_data]    |   Unzipping corpora/twitter_samples.zip.\n",
            "[nltk_data]    | Downloading package omw to /root/nltk_data...\n",
            "[nltk_data]    |   Unzipping corpora/omw.zip.\n",
            "[nltk_data]    | Downloading package wordnet to /root/nltk_data...\n",
            "[nltk_data]    |   Unzipping corpora/wordnet.zip.\n",
            "[nltk_data]    | Downloading package wordnet_ic to /root/nltk_data...\n",
            "[nltk_data]    |   Unzipping corpora/wordnet_ic.zip.\n",
            "[nltk_data]    | Downloading package words to /root/nltk_data...\n",
            "[nltk_data]    |   Unzipping corpora/words.zip.\n",
            "[nltk_data]    | Downloading package maxent_ne_chunker to\n",
            "[nltk_data]    |     /root/nltk_data...\n",
            "[nltk_data]    |   Unzipping chunkers/maxent_ne_chunker.zip.\n",
            "[nltk_data]    | Downloading package punkt to /root/nltk_data...\n",
            "[nltk_data]    |   Unzipping tokenizers/punkt.zip.\n",
            "[nltk_data]    | Downloading package snowball_data to\n",
            "[nltk_data]    |     /root/nltk_data...\n",
            "[nltk_data]    | Downloading package averaged_perceptron_tagger to\n",
            "[nltk_data]    |     /root/nltk_data...\n",
            "[nltk_data]    |   Unzipping taggers/averaged_perceptron_tagger.zip.\n",
            "[nltk_data]    | \n",
            "[nltk_data]  Done downloading collection popular\n"
          ],
          "name": "stdout"
        },
        {
          "output_type": "execute_result",
          "data": {
            "text/plain": [
              "True"
            ]
          },
          "metadata": {
            "tags": []
          },
          "execution_count": 2
        }
      ]
    },
    {
      "cell_type": "code",
      "metadata": {
        "id": "UpuytgJMzdzV"
      },
      "source": [
        "from nltk.stem import PorterStemmer\n",
        "from nltk.corpus import stopwords\n",
        "import re"
      ],
      "execution_count": 7,
      "outputs": []
    },
    {
      "cell_type": "code",
      "metadata": {
        "id": "BeExW6Wdzq7e"
      },
      "source": [
        "stemmer=PorterStemmer()"
      ],
      "execution_count": 8,
      "outputs": []
    },
    {
      "cell_type": "code",
      "metadata": {
        "id": "5QfsfXHtz0PY"
      },
      "source": [
        "paragraph=\"\"\"Here’s how I recall the wonderful story that sets the theme for my remarks today: At a party given by a billionaire on Shelter Island, the \n",
        "            late Kurt Vonnegut informs his pal, the author Joseph Heller, that their host, a hedge fund manager, had made more money in a single day than Heller had \n",
        "            earned from his wildly popular novel Catch 22 over its whole history.\n",
        "            Heller responds, “Yes, but I have something he will never have . . . Enough.”\n",
        "\n",
        "            Enough. I was stunned by its simple eloquence, to say nothing of its relevance to some of the vital issues arising in American society today. Many \n",
        "            of them revolve around money—yes, money—increasingly, in our “bottom line” society, the Great God of prestige, the Great Measure of the Man (and Woman). \n",
        "            So this morning I have the temerity to ask you soon-to-be-minted MBA graduates, most of whom will enter the world of commerce, to consider with me the role \n",
        "            of “enough” in business and entrepreneurship in our society, \n",
        "            “enough” in the dominant role of the financial system in our economy, and “enough” in the values you will bring to the fields you choose for your careers.\n",
        "\n",
        "            Kurt Vonnegut loved to speak to college students. He believed, if I may paraphrase here, that “we should catch young people before they become CEOs, \n",
        "            investment bankers, consultants, and money managers (and especially hedge fund managers), and do our best to poison their minds with humanity.” \n",
        "            And in my remarks this morning, I’ll try to poison your minds with a little bit of that humanity.\n",
        "\n",
        "            Over the past two centuries, our nation has moved from being an agricultural economy, to a manufacturing economy, to a service economy, \n",
        "            and now to a predominantly financial economy. But our financial economy, by definition, subtracts from the value created by our productive businesses. \n",
        "            Think about it: while the owners of business enjoy the dividend yields and earnings growth that our capitalistic system creates, \n",
        "            those who play in the financial markets capture those investment gains only after the costs of financial intermediation are deducted. \n",
        "            Thus, while investing in American business is a winner’s game, beating the stock market before those costs is a zero-sum game. \n",
        "            But after intermediation costs are deducted, beating the market—for all of us as a group—becomes a loser’s game.\"\"\""
      ],
      "execution_count": 9,
      "outputs": []
    },
    {
      "cell_type": "code",
      "metadata": {
        "colab": {
          "base_uri": "https://localhost:8080/"
        },
        "id": "1XYd9Fj0z6kl",
        "outputId": "236f305f-b264-4d33-b002-25d8fe6e3c8c"
      },
      "source": [
        "sentences=nltk.sent_tokenize(paragraph)\n",
        "print(sentences)"
      ],
      "execution_count": 10,
      "outputs": [
        {
          "output_type": "stream",
          "text": [
            "['Here’s how I recall the wonderful story that sets the theme for my remarks today: At a party given by a billionaire on Shelter Island, the \\n            late Kurt Vonnegut informs his pal, the author Joseph Heller, that their host, a hedge fund manager, had made more money in a single day than Heller had \\n            earned from his wildly popular novel Catch 22 over its whole history.', 'Heller responds, “Yes, but I have something he will never have .', '.', '.', 'Enough.”\\n\\n            Enough.', 'I was stunned by its simple eloquence, to say nothing of its relevance to some of the vital issues arising in American society today.', 'Many \\n            of them revolve around money—yes, money—increasingly, in our “bottom line” society, the Great God of prestige, the Great Measure of the Man (and Woman).', 'So this morning I have the temerity to ask you soon-to-be-minted MBA graduates, most of whom will enter the world of commerce, to consider with me the role \\n            of “enough” in business and entrepreneurship in our society, \\n            “enough” in the dominant role of the financial system in our economy, and “enough” in the values you will bring to the fields you choose for your careers.', 'Kurt Vonnegut loved to speak to college students.', 'He believed, if I may paraphrase here, that “we should catch young people before they become CEOs, \\n            investment bankers, consultants, and money managers (and especially hedge fund managers), and do our best to poison their minds with humanity.” \\n            And in my remarks this morning, I’ll try to poison your minds with a little bit of that humanity.', 'Over the past two centuries, our nation has moved from being an agricultural economy, to a manufacturing economy, to a service economy, \\n            and now to a predominantly financial economy.', 'But our financial economy, by definition, subtracts from the value created by our productive businesses.', 'Think about it: while the owners of business enjoy the dividend yields and earnings growth that our capitalistic system creates, \\n            those who play in the financial markets capture those investment gains only after the costs of financial intermediation are deducted.', 'Thus, while investing in American business is a winner’s game, beating the stock market before those costs is a zero-sum game.', 'But after intermediation costs are deducted, beating the market—for all of us as a group—becomes a loser’s game.']\n"
          ],
          "name": "stdout"
        }
      ]
    },
    {
      "cell_type": "code",
      "metadata": {
        "id": "RkZdb6g_0GvN"
      },
      "source": [
        "corpus=[]\n",
        "for i in range(len(sentences)):\n",
        "  review=re.sub(\"[^a-zA-Z]\",\" \",sentences[i])\n",
        "  review=review.lower()\n",
        "  review=review.split()\n",
        "  review=[stemmer.stem(word) for word in review if word not in set(stopwords.words(\"english\"))]\n",
        "  review=' '.join(review)\n",
        "  corpus.append(review)"
      ],
      "execution_count": 15,
      "outputs": []
    },
    {
      "cell_type": "code",
      "metadata": {
        "id": "SwOvBY1f5fQH"
      },
      "source": [
        "#for creating bag of words\n",
        "from sklearn.feature_extraction.text import CountVectorizer\n",
        "cv=CountVectorizer()\n",
        "x=cv.fit_transform(corpus).toarray()\n"
      ],
      "execution_count": 16,
      "outputs": []
    },
    {
      "cell_type": "code",
      "metadata": {
        "colab": {
          "base_uri": "https://localhost:8080/"
        },
        "id": "pyp05UI07nYa",
        "outputId": "4bcb3eba-3feb-4508-9249-4f2b73230188"
      },
      "source": [
        "print(cv.vocabulary_)\n",
        "print(x)"
      ],
      "execution_count": 17,
      "outputs": [
        {
          "output_type": "stream",
          "text": [
            "{'recal': 101, 'wonder': 139, 'stori': 118, 'set': 109, 'theme': 125, 'remark': 103, 'today': 128, 'parti': 92, 'given': 47, 'billionair': 11, 'shelter': 110, 'island': 62, 'late': 66, 'kurt': 65, 'vonnegut': 134, 'inform': 59, 'pal': 90, 'author': 5, 'joseph': 64, 'heller': 54, 'host': 56, 'hedg': 53, 'fund': 44, 'manag': 73, 'made': 71, 'money': 82, 'singl': 112, 'day': 29, 'earn': 34, 'wildli': 136, 'popular': 97, 'novel': 88, 'catch': 19, 'whole': 135, 'histori': 55, 'respond': 104, 'ye': 141, 'someth': 114, 'never': 86, 'enough': 38, 'stun': 120, 'simpl': 111, 'eloqu': 36, 'say': 107, 'noth': 87, 'relev': 102, 'vital': 133, 'issu': 63, 'aris': 2, 'american': 1, 'societi': 113, 'mani': 74, 'revolv': 105, 'around': 3, 'increasingli': 58, 'bottom': 13, 'line': 67, 'great': 50, 'god': 48, 'prestig': 99, 'measur': 79, 'man': 72, 'woman': 138, 'morn': 83, 'temer': 124, 'ask': 4, 'soon': 115, 'mint': 81, 'mba': 78, 'graduat': 49, 'enter': 39, 'world': 140, 'commerc': 24, 'consid': 25, 'role': 106, 'busi': 15, 'entrepreneurship': 40, 'domin': 33, 'financi': 43, 'system': 123, 'economi': 35, 'valu': 132, 'bring': 14, 'field': 42, 'choos': 22, 'career': 18, 'love': 70, 'speak': 116, 'colleg': 23, 'student': 119, 'believ': 9, 'may': 77, 'paraphras': 91, 'young': 143, 'peopl': 94, 'becom': 8, 'ceo': 21, 'invest': 61, 'banker': 6, 'consult': 26, 'especi': 41, 'best': 10, 'poison': 96, 'mind': 80, 'human': 57, 'tri': 129, 'littl': 68, 'bit': 12, 'past': 93, 'two': 130, 'centuri': 20, 'nation': 85, 'move': 84, 'agricultur': 0, 'manufactur': 75, 'servic': 108, 'predominantli': 98, 'definit': 31, 'subtract': 121, 'creat': 28, 'product': 100, 'think': 126, 'owner': 89, 'enjoy': 37, 'dividend': 32, 'yield': 142, 'growth': 52, 'capitalist': 16, 'play': 95, 'market': 76, 'captur': 17, 'gain': 45, 'cost': 27, 'intermedi': 60, 'deduct': 30, 'thu': 127, 'winner': 137, 'game': 46, 'beat': 7, 'stock': 117, 'zero': 144, 'sum': 122, 'us': 131, 'group': 51, 'loser': 69}\n",
            "[[0 0 0 ... 0 0 0]\n",
            " [0 0 0 ... 0 0 0]\n",
            " [0 0 0 ... 0 0 0]\n",
            " ...\n",
            " [0 0 0 ... 1 0 0]\n",
            " [0 1 0 ... 0 0 1]\n",
            " [0 0 0 ... 0 0 0]]\n"
          ],
          "name": "stdout"
        }
      ]
    },
    {
      "cell_type": "code",
      "metadata": {
        "id": "Snauo8PN7umD"
      },
      "source": [
        ""
      ],
      "execution_count": null,
      "outputs": []
    }
  ]
}